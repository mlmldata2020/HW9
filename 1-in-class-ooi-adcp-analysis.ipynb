{
 "cells": [
  {
   "cell_type": "markdown",
   "metadata": {},
   "source": [
    "## OOI Endurance Array\n",
    "\n",
    "![Endurance Array](https://ooinet.oceanobservatories.org/img/home/coastal_endurance/endurance_1.jpg) \n",
    "\n",
    "This example focuses on Acoustic Doppler Current Profiler (ADCP) data from the inshore mooring on the Oregon line. The ADCP is mounted at the bottom and looks upward throughout the water column, measuring velocity at a series of depths.\n",
    "\n",
    "![Oregon Endurance Line](https://ooinet.oceanobservatories.org/img/home/coastal_endurance/endurance_2.png)\n",
    "\n",
    "\n",
    "The photo below shows an ADCP deployed at the OOI Axial Seamount site. The four red cylinders are the upward-facing transducers, which send and receive acoustic signals. Image source: https://oceanobservatories.org/instrument-class/adcp/\n",
    "\n",
    "![ADCP photo](https://oceanobservatories.org/wp-content/uploads/2016/10/adcp.r1735_sdi1_2014-08-040_45_40_14317_spacialrelationshipoflv01atolj01a_med.jpg)"
   ]
  },
  {
   "cell_type": "markdown",
   "metadata": {},
   "source": [
    "The [OOI Data Portal](https://ooinet.oceanobservatories.org/) can be used to access data from any OOI instrument. The data typically come in NetCDF format. To create a custom data catalog, you need to sign up for a free account.\n",
    "\n",
    "A data catalog for the bottom-mounted ADCP at the Oregon inshore mooring has already been created:\n",
    "\n",
    "https://opendap.oceanobservatories.org/thredds/catalog/ooi/tconnolly@mlml.calstate.edu/20200421T020908490Z-CE01ISSM-MFD37-03-CTDBPC000-recovered_inst-ctdbp_cdef_instrument_recovered/catalog.html"
   ]
  },
  {
   "cell_type": "markdown",
   "metadata": {},
   "source": [
    "### Load data\n",
    "\n",
    "In addition to standard libraries, the `import tseries as ts` line imports the module contained in the file `tseries.py` contained in this repository."
   ]
  },
  {
   "cell_type": "code",
   "execution_count": null,
   "metadata": {},
   "outputs": [],
   "source": [
    "#%matplotlib widget\n",
    "import numpy as np\n",
    "import matplotlib.pyplot as plt\n",
    "import xarray as xr\n",
    "from matplotlib import mlab\n",
    "import scipy.signal as signal\n",
    "\n",
    "import tseries as ts"
   ]
  },
  {
   "cell_type": "code",
   "execution_count": null,
   "metadata": {},
   "outputs": [],
   "source": [
    "thredds_dataset = 'https://opendap.oceanobservatories.org/thredds/dodsC/ooi/tconnolly@mlml.calstate.edu/20200320T020213155Z-CE01ISSM-MFD35-04-ADCPTM000-recovered_inst-adcp_velocity_earth/deployment0009_CE01ISSM-MFD35-04-ADCPTM000-recovered_inst-adcp_velocity_earth_20180403T043000-20180912T224545.920000.nc'\n",
    "local_dataset = 'ooi_data/deployment0009_CE01ISSM-MFD35-04-ADCPTM000-recovered_inst-adcp_velocity_earth_20180403T043000-20180912T224545.920000.nc'"
   ]
  },
  {
   "cell_type": "markdown",
   "metadata": {},
   "source": [
    "The ADCP data for April-September 2018 is included in this repository. The data set is in NetCDF format, and can be easily opened with the [xarray](http://xarray.pydata.org) package."
   ]
  },
  {
   "cell_type": "code",
   "execution_count": null,
   "metadata": {},
   "outputs": [],
   "source": [
    "# insert code here"
   ]
  },
  {
   "cell_type": "markdown",
   "metadata": {},
   "source": [
    "Another option is to access the data set remotely, using the OOI THREDDS server. This alternative can be used with the following code:\n",
    "\n",
    "```python\n",
    "ds = xr.open_dataset(thredds_dataset+'#fillmismatch')\n",
    "```"
   ]
  },
  {
   "cell_type": "code",
   "execution_count": null,
   "metadata": {},
   "outputs": [],
   "source": [
    "# insert code here"
   ]
  },
  {
   "cell_type": "markdown",
   "metadata": {},
   "source": [
    "### ADCP post-processing\n",
    "\n",
    "First, for convenience, create variables for eastward velocity ($u$) and northward velocity ($v$) in units of m/s."
   ]
  },
  {
   "cell_type": "code",
   "execution_count": null,
   "metadata": {},
   "outputs": [],
   "source": [
    "ds['u'] = ds['water_velocity_east']/1000\n",
    "ds['u'].attrs['units'] = 'm/s'\n",
    "\n",
    "ds['v'] = ds['water_velocity_north']/1000\n",
    "ds['v'].attrs['units'] = 'm/s'"
   ]
  },
  {
   "cell_type": "markdown",
   "metadata": {},
   "source": [
    "\n",
    "The dataset provided by OOI includes the following variables:\n",
    "* `depth_from_pressure` is the total water column depth, calculated from the pressure sensor. Dimensions: `(obs)`\n",
    "* `bin_depths` is the depth of each ADCP bin below the sea surface, which moves up and down. The bin depths constantly change in time. Dimensions: `(obs, bin)`\n",
    "\n",
    "The code below creates additional variables for keeping track of depths in the ADCP data:\n",
    "* `bin_height` is the height of each ADCP bin above the bottom. These heights are fixed, since the ADCP is mounted at the bottom. Dimensions: `(bin)`\n",
    "* `bin_depths_avg` is the average depth below the surface for each ADCP bin. These depths are fixed in time since they are defined in relation to a time average. Dimensions: `(bin)`\n",
    "* `sea_surface` is the height of the sea surface, relative to the time average. Dimensions: `(obs)`\n",
    "* `bottom_depth_avg` is the average bottom depth, calculated from the pressure sensor. This is a single value with no dimensions. Dimensions: `()`"
   ]
  },
  {
   "cell_type": "code",
   "execution_count": null,
   "metadata": {},
   "outputs": [],
   "source": [
    "ds['bin_height'] =  ds['depth_from_pressure'][0] - ds['bin_depths'][0,:]\n",
    "ds['bin_height'].attrs['units'] = 'm'\n",
    "\n",
    "ds['bin_depths_avg'] = ds['bin_height']-np.mean(ds['depth_from_pressure'])\n",
    "ds['bin_depths_avg'].attrs['units'] = 'm'\n",
    "\n",
    "ds['sea_surface'] = ds['depth_from_pressure']-np.mean(ds['depth_from_pressure'])\n",
    "ds['sea_surface'].attrs['units'] = 'm'\n",
    "\n",
    "ds['bottom_depth_avg'] = np.mean(ds['depth_from_pressure'])\n",
    "ds['bottom_depth_avg'].attrs['units'] = 'm'"
   ]
  },
  {
   "cell_type": "markdown",
   "metadata": {},
   "source": [
    "### ADCP quality control\n",
    "\n",
    "The acoustic signal of the ADCP can be reflected at the sea surface, leading to contamination. This plot shows the echo intensity for one of the four beams of the ADCP. There is bad data near the sea surface, as well as data above the sea surface which needs to be discarded."
   ]
  },
  {
   "cell_type": "code",
   "execution_count": null,
   "metadata": {},
   "outputs": [],
   "source": [
    "plt.figure(figsize=(8,3))\n",
    "plt.pcolor(ds['time'],ds['bin_height'],\n",
    "           ds['corrected_echo_intensity_beam1'].T)\n",
    "plt.plot(ds['time'],ds['depth_from_pressure'],'k-') "
   ]
  },
  {
   "cell_type": "markdown",
   "metadata": {},
   "source": [
    "To get a better look, select a date range for plotting a subset of the data."
   ]
  },
  {
   "cell_type": "code",
   "execution_count": null,
   "metadata": {},
   "outputs": [],
   "source": [
    "t1 = np.datetime64('2018-07-01 00:00:00')\n",
    "t2 = np.datetime64('2018-07-15 00:00:00')"
   ]
  },
  {
   "cell_type": "code",
   "execution_count": null,
   "metadata": {},
   "outputs": [],
   "source": [
    "plt.figure(figsize=(8,3))\n",
    "plt.pcolor(ds['time'],ds['bin_height'],\n",
    "           ds['corrected_echo_intensity_beam1'].T)\n",
    "plt.plot(ds['time'],ds['depth_from_pressure'],'k-') \n",
    "plt.xlim([t1,t2])"
   ]
  },
  {
   "cell_type": "markdown",
   "metadata": {},
   "source": [
    "Looking at the velocity, the noise near the surface is apparent."
   ]
  },
  {
   "cell_type": "code",
   "execution_count": null,
   "metadata": {},
   "outputs": [],
   "source": [
    "plt.figure(figsize=(8,3))\n",
    "# insert code here"
   ]
  },
  {
   "cell_type": "markdown",
   "metadata": {},
   "source": [
    "We can remove the noise by selecting only good data at least 4m below the sea surface. "
   ]
  },
  {
   "cell_type": "code",
   "execution_count": null,
   "metadata": {},
   "outputs": [],
   "source": [
    "# insert code here"
   ]
  },
  {
   "cell_type": "code",
   "execution_count": null,
   "metadata": {},
   "outputs": [],
   "source": [
    "# insert code here"
   ]
  },
  {
   "cell_type": "code",
   "execution_count": null,
   "metadata": {},
   "outputs": [],
   "source": [
    "plt.figure(figsize=(8,3))\n",
    "plt.pcolor(ds['time'],ds['bin_height'],ds['u'].where(good).T,cmap='seismic')\n",
    "plt.plot(ds['time'],ds['depth_from_pressure'],'k-') # convert from dPa to dbar\n",
    "plt.xlim([t1,t2])\n",
    "plt.clim([-0.4,0.4])\n",
    "plt.colorbar()"
   ]
  },
  {
   "cell_type": "markdown",
   "metadata": {},
   "source": [
    "### Exercise\n",
    "\n",
    "Plot the northward velocity ($v$) variable as a function of time and height above the bottom. Which velocity component tends to be stronger, the $u$ or $v$ component?"
   ]
  },
  {
   "cell_type": "code",
   "execution_count": null,
   "metadata": {},
   "outputs": [],
   "source": [
    "# insert code here"
   ]
  },
  {
   "cell_type": "markdown",
   "metadata": {},
   "source": [
    "### Compute depth-averaged velocity\n",
    "\n",
    "The averaged of the velocity over all depths of the water column is called the depth-averaged velocity. A function for computing the depth averaged velocity is included in the `tseries.py` module."
   ]
  },
  {
   "cell_type": "code",
   "execution_count": null,
   "metadata": {},
   "outputs": [],
   "source": [
    "uda = ts.depthavg(ds['u'].where(good),\n",
    "                  ds['bin_depths_avg'],\n",
    "                  ds['bottom_depth_avg'],\n",
    "                  ds['sea_surface'])\n",
    "\n",
    "vda = ts.depthavg(ds['v'].where(good),\n",
    "                  ds['bin_depths_avg'],\n",
    "                  ds['bottom_depth_avg'],\n",
    "                  ds['sea_surface'])\n",
    "\n",
    "ds['uda'] = xr.DataArray(uda,dims='obs')\n",
    "ds['uda'].attrs['units'] = 'm/s'\n",
    "ds['vda'] = xr.DataArray(vda,dims='obs')\n",
    "ds['vda'].attrs['units'] = 'm/s'"
   ]
  },
  {
   "cell_type": "code",
   "execution_count": null,
   "metadata": {},
   "outputs": [],
   "source": [
    "plt.figure()\n",
    "# insert code here"
   ]
  },
  {
   "cell_type": "code",
   "execution_count": null,
   "metadata": {},
   "outputs": [],
   "source": [
    "plt.figure()\n",
    "h1 = plt.plot(ds['time'],ds['v'].where(good),color='gray');\n",
    "h2 = plt.plot(ds['time'],ds['vda'],color='k');\n",
    "plt.xlim([t1,t2]);\n",
    "plt.legend([h1,h2],['individual depths','depth average']);\n",
    "plt.ylabel('[m/s]');"
   ]
  },
  {
   "cell_type": "markdown",
   "metadata": {},
   "source": [
    "### Exercise\n",
    "\n",
    "Make a scatter plot between the depth-averaged $\\bar{u}$ and $\\bar{v}$ velocity components. Which component tends to have a greater magnitude, and why?"
   ]
  },
  {
   "cell_type": "code",
   "execution_count": null,
   "metadata": {},
   "outputs": [],
   "source": [
    "# insert code here"
   ]
  },
  {
   "cell_type": "markdown",
   "metadata": {},
   "source": [
    "### Correlation functions"
   ]
  },
  {
   "cell_type": "markdown",
   "metadata": {},
   "source": [
    "**Goal:** Based on the decorrelation time scale, how many *effective* degrees of freedom ($N^*$) does this time series have?\n",
    "\n",
    "#### Preliminary exercises\n",
    "\n",
    "How many samples ($N$) are in the depth-averaged $\\bar{v}$ time series?\n",
    "\n",
    "What is the time interval $\\Delta t$ betwen samples?"
   ]
  },
  {
   "cell_type": "markdown",
   "metadata": {},
   "source": [
    "*insert answer here*"
   ]
  },
  {
   "cell_type": "markdown",
   "metadata": {},
   "source": [
    "#### Manually computing autocorrelation"
   ]
  },
  {
   "cell_type": "markdown",
   "metadata": {},
   "source": [
    "Correlation at zero lag ($\\tau$ = 0)."
   ]
  },
  {
   "cell_type": "code",
   "execution_count": null,
   "metadata": {},
   "outputs": [],
   "source": [
    "# insert code here"
   ]
  },
  {
   "cell_type": "markdown",
   "metadata": {},
   "source": [
    "Correlation at lag ($\\tau$ = $\\Delta t$)."
   ]
  },
  {
   "cell_type": "code",
   "execution_count": null,
   "metadata": {},
   "outputs": [],
   "source": [
    "# insert code here"
   ]
  },
  {
   "cell_type": "markdown",
   "metadata": {},
   "source": [
    "Correlation at lag ($\\tau$ = 2$\\Delta t$)."
   ]
  },
  {
   "cell_type": "code",
   "execution_count": null,
   "metadata": {},
   "outputs": [],
   "source": [
    "# insert code here"
   ]
  },
  {
   "cell_type": "code",
   "execution_count": null,
   "metadata": {},
   "outputs": [],
   "source": [
    "plt.figure()\n",
    "plt.plot(ds['time'][2:],ds['vda'][2:],'r-')\n",
    "plt.plot(ds['time'][2:],ds['vda'][:-2],'b-')\n",
    "plt.xlim([ds['time'][0],ds['time'][100]])\n",
    "plt.xticks(rotation=30)"
   ]
  },
  {
   "cell_type": "markdown",
   "metadata": {},
   "source": [
    "#### Exercise\n",
    "\n",
    "Compute the autocorrelation (r) for a lag of $\\tau$ = 3 hours"
   ]
  },
  {
   "cell_type": "code",
   "execution_count": null,
   "metadata": {},
   "outputs": [],
   "source": [
    "# insert code here"
   ]
  },
  {
   "cell_type": "markdown",
   "metadata": {},
   "source": [
    "### Autocorrelation function\n",
    "\n",
    "Computing cross-correlation and autocorrelation functions is common enough that there is a matplotlib function to plot them. This function also allows you to automatically detrend the data beforehand."
   ]
  },
  {
   "cell_type": "code",
   "execution_count": null,
   "metadata": {},
   "outputs": [],
   "source": [
    "plt.figure()\n",
    "lags,r,_,_ = plt.xcorr(ds['vda'],ds['vda'],detrend=mlab.detrend,maxlags=1000);\n",
    "plt.xlabel('lag')\n",
    "plt.ylabel('r')\n",
    "plt.title('autocorrelation function, depth-averaged v')"
   ]
  },
  {
   "cell_type": "code",
   "execution_count": null,
   "metadata": {},
   "outputs": [],
   "source": [
    "lags"
   ]
  },
  {
   "cell_type": "code",
   "execution_count": null,
   "metadata": {},
   "outputs": [],
   "source": [
    "r"
   ]
  },
  {
   "cell_type": "markdown",
   "metadata": {},
   "source": [
    "#### Exercises\n",
    "\n",
    "* From the autocorrelation plot above, estimate the decorrelation time scale (the time lag $\\tau$ at which $r$ decreases to 0, in hours).\n",
    "* Based on the decorrelation time scale, how many *effective* degrees of freedom ($N^*$) does this time series have?"
   ]
  },
  {
   "cell_type": "markdown",
   "metadata": {},
   "source": [
    "### Spectral analysis intro"
   ]
  },
  {
   "cell_type": "markdown",
   "metadata": {},
   "source": [
    "These exercises use the time series for depth-averaged velocity $\\bar{v}$ and bottom pressure."
   ]
  },
  {
   "cell_type": "code",
   "execution_count": null,
   "metadata": {},
   "outputs": [],
   "source": [
    "plt.figure()\n",
    "# insert code here"
   ]
  },
  {
   "cell_type": "code",
   "execution_count": null,
   "metadata": {},
   "outputs": [],
   "source": [
    "plt.figure()\n",
    "# insert code here"
   ]
  },
  {
   "cell_type": "markdown",
   "metadata": {},
   "source": [
    "### Exercises\n",
    "\n",
    "* How many samples $N$ are in the time series?\n",
    "* What is the sample interval $\\Delta t$, in hours? In days?\n",
    "* What is the fundamental frequency of the time series (in cycles per day)?\n",
    "* What is the sampling frequency of the time series (in cycles per day)?"
   ]
  },
  {
   "cell_type": "code",
   "execution_count": null,
   "metadata": {},
   "outputs": [],
   "source": [
    "from scipy.signal import periodogram\n",
    "\n",
    "# insert code here"
   ]
  },
  {
   "cell_type": "code",
   "execution_count": null,
   "metadata": {},
   "outputs": [],
   "source": [
    "# insert code here"
   ]
  },
  {
   "cell_type": "markdown",
   "metadata": {},
   "source": [
    "### Exercises\n",
    "\n",
    "* Plot the periodogram (spectrum) for pressure\n",
    "* Label the plot with the appropriate units\n",
    "* Discuss the similarities and differences between the spectra of velocity and pressure."
   ]
  },
  {
   "cell_type": "code",
   "execution_count": null,
   "metadata": {},
   "outputs": [],
   "source": []
  }
 ],
 "metadata": {
  "kernelspec": {
   "display_name": "Python [conda env:ms263]",
   "language": "python",
   "name": "conda-env-ms263-py"
  },
  "language_info": {
   "codemirror_mode": {
    "name": "ipython",
    "version": 3
   },
   "file_extension": ".py",
   "mimetype": "text/x-python",
   "name": "python",
   "nbconvert_exporter": "python",
   "pygments_lexer": "ipython3",
   "version": "3.7.6"
  }
 },
 "nbformat": 4,
 "nbformat_minor": 4
}
