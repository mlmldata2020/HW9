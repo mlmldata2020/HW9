{
 "cells": [
  {
   "cell_type": "markdown",
   "metadata": {},
   "source": [
    "### 1. Preparation for OOI data exploration\n",
    "\n",
    "In the final classes, we will work together to create notebooks from OOI data, based on your own interests. \n",
    "\n",
    "a. Explore the resources available in the Ocean Observatories Initiative data portal through the following two links:\n",
    "\n",
    "* OOI Data Portal\n",
    "https://ooinet.oceanobservatories.org/\n",
    "\n",
    "* OOI – Visual Ocean\n",
    "Supplement to the official OOI data portal with more information about data availability an easier-to-navigate interface \n",
    "https://ooi-visualocean.whoi.edu/\n",
    "\n",
    "b. Describe an OOI data source that you are interested in exploring further in the last two classes. What scientific question are you interested in exploring with this data? Based on the data availability reported at https://ooi-visualocean.whoi.edu/, during what time range are the data available? "
   ]
  },
  {
   "cell_type": "markdown",
   "metadata": {},
   "source": [
    "*Insert text here*"
   ]
  },
  {
   "cell_type": "markdown",
   "metadata": {},
   "source": [
    "c. Sign up for an OOI login at https://ooinet.oceanobservatories.org/ \n",
    "* (click \"Log In\" in the upper right-hand corner).\n",
    "\n",
    "d. Read the paper by Barth et al. on applications of data from the OOI Endurance Array:\n",
    "\n",
    "* Barth, J.A., J.P. Fram, E.P. Dever, C.M. Risien, C.E. Wingard, R.W. Collier, and\n",
    "T.D. Kearney. 2018. Warm blobs, low-oxygen events, and an eclipse: The Ocean Observatories Initiative Endurance Array captures them all. *Oceanography* 31(1):90–97, https://doi.org/10.5670/oceanog.2018.114."
   ]
  },
  {
   "cell_type": "markdown",
   "metadata": {},
   "source": [
    "### 2. Preparation for Git tutorial and project organization"
   ]
  },
  {
   "cell_type": "markdown",
   "metadata": {},
   "source": [
    "a. Read the intoduction to the Software Carpentry git tutorial: https://swcarpentry.github.io/git-novice/01-basics/index.html\n",
    "\n",
    "b. Continue working on your project analysis, and bring a question to next week's class.\n",
    "\n",
    "c. Based on our reading for today, organize your files for your final project. Your project, including data and code, should be self-contained in one directory. At the end of the Git tutorial next week, you will create a preliminary Github repository for your project."
   ]
  }
 ],
 "metadata": {
  "kernelspec": {
   "display_name": "Python [conda env:py37]",
   "language": "python",
   "name": "conda-env-py37-py"
  },
  "language_info": {
   "codemirror_mode": {
    "name": "ipython",
    "version": 3
   },
   "file_extension": ".py",
   "mimetype": "text/x-python",
   "name": "python",
   "nbconvert_exporter": "python",
   "pygments_lexer": "ipython3",
   "version": "3.7.2"
  }
 },
 "nbformat": 4,
 "nbformat_minor": 4
}
